{
 "cells": [
  {
   "cell_type": "markdown",
   "id": "6cfa192e-0a2e-4f6a-af68-0edf8df0f6d9",
   "metadata": {},
   "source": [
    "# Programming Assignment 2\n",
    "---\n",
    "**Author:** John Little  \n",
    "**Version:** 1.0  \n",
    "**Semester:** Spring 2024 "
   ]
  },
  {
   "cell_type": "markdown",
   "id": "73d5730c-200e-41ce-a2c1-e90239ee33bb",
   "metadata": {},
   "source": [
    "### Problem 1 - Printing Numbers "
   ]
  },
  {
   "cell_type": "code",
   "execution_count": 57,
   "id": "d31676f4-fabd-434e-b03f-cf2b19777de3",
   "metadata": {},
   "outputs": [
    {
     "name": "stdout",
     "output_type": "stream",
     "text": [
      "0\n",
      "1\n",
      "2\n",
      "3\n",
      "4\n",
      "5\n",
      "6 *\n",
      "7\n",
      "8\n",
      "9 *\n",
      "10\n",
      "11\n",
      "12 *\n",
      "13\n",
      "14\n",
      "15 *\n",
      "16\n",
      "17\n",
      "18 *\n",
      "19\n",
      "20\n",
      "21 *\n",
      "22\n",
      "23\n",
      "24 *\n",
      "25\n",
      "26\n",
      "27 *\n",
      "28\n",
      "29\n",
      "30 *\n",
      "31\n",
      "32\n",
      "33 *\n",
      "34\n",
      "35\n",
      "36 *\n",
      "37\n",
      "38\n",
      "39 *\n",
      "40\n",
      "41\n",
      "42 *\n",
      "43\n",
      "44\n",
      "45 *\n",
      "46\n",
      "47\n",
      "48 *\n",
      "49\n",
      "50\n",
      "51 *\n",
      "52\n",
      "53\n",
      "54 *\n",
      "55\n",
      "56\n",
      "57 *\n",
      "58\n",
      "59\n",
      "60 *\n",
      "61\n",
      "62\n",
      "63 *\n",
      "64\n",
      "65\n",
      "66 *\n",
      "67\n",
      "68\n",
      "69 *\n",
      "70\n",
      "71\n",
      "72 *\n",
      "73\n",
      "74\n",
      "75 *\n",
      "76\n",
      "77\n",
      "78 *\n",
      "79\n",
      "80\n",
      "81 *\n",
      "82\n",
      "83\n",
      "84 *\n",
      "85\n",
      "86\n",
      "87 *\n",
      "88\n",
      "89\n",
      "90 *\n",
      "91\n",
      "92\n",
      "93 *\n",
      "94\n",
      "95\n",
      "96 *\n",
      "97\n",
      "98\n",
      "99 *\n",
      "100\n"
     ]
    }
   ],
   "source": [
    "for r in range(101):\n",
    "    if r%3 == 0 and r!=0 and r!=3:\n",
    "        print(r,'*')\n",
    "    else:\n",
    "        print(r)\n",
    "    "
   ]
  },
  {
   "cell_type": "markdown",
   "id": "40295360-e0bf-436f-8dd3-240088cfdb8d",
   "metadata": {},
   "source": [
    "### Problem 2 - Age Status \n"
   ]
  },
  {
   "cell_type": "code",
   "execution_count": 83,
   "id": "e2dc0678-c1b7-43dc-ae26-9a6636bea951",
   "metadata": {},
   "outputs": [
    {
     "name": "stdin",
     "output_type": "stream",
     "text": [
      "What is the subject's age?  2\n"
     ]
    },
    {
     "name": "stdout",
     "output_type": "stream",
     "text": [
      "Minor\n"
     ]
    },
    {
     "name": "stdin",
     "output_type": "stream",
     "text": [
      "What is the subject's age?  1\n"
     ]
    },
    {
     "name": "stdout",
     "output_type": "stream",
     "text": [
      "Minor\n"
     ]
    },
    {
     "name": "stdin",
     "output_type": "stream",
     "text": [
      "What is the subject's age?  18\n"
     ]
    },
    {
     "name": "stdout",
     "output_type": "stream",
     "text": [
      "Adult\n"
     ]
    },
    {
     "name": "stdin",
     "output_type": "stream",
     "text": [
      "What is the subject's age?  69\n"
     ]
    },
    {
     "name": "stdout",
     "output_type": "stream",
     "text": [
      "Senior Citizen\n"
     ]
    },
    {
     "name": "stdin",
     "output_type": "stream",
     "text": [
      "What is the subject's age?  0\n"
     ]
    },
    {
     "name": "stdout",
     "output_type": "stream",
     "text": [
      "Done!\n"
     ]
    }
   ],
   "source": [
    "age = float(input(\"What is the subject's age? \"))\n",
    "\n",
    "while age != 0:\n",
    "    if 0<age<18:\n",
    "        print('Minor')\n",
    "    elif 18<=age<65:\n",
    "        print('Adult')\n",
    "    else:\n",
    "        print('Senior Citizen')\n",
    "    age = float(input(\"What is the subject's age? \"))\n",
    "print('Done!')"
   ]
  },
  {
   "cell_type": "markdown",
   "id": "f44358b7-5feb-4385-8279-467523a39948",
   "metadata": {},
   "source": [
    "### Problem 3 - Age Status v2"
   ]
  },
  {
   "cell_type": "code",
   "execution_count": 34,
   "id": "75936ccb-a67d-4f51-9532-5f5667162e1f",
   "metadata": {},
   "outputs": [
    {
     "name": "stdout",
     "output_type": "stream",
     "text": [
      "65: Senior Citizen\n",
      "78: Senior Citizen\n",
      "34: Adult\n",
      "56: Adult\n",
      "12: Minor\n",
      "9: Minor\n",
      "43: Adult\n",
      "67: Senior Citizen\n"
     ]
    }
   ],
   "source": [
    "age = [65,78,34,56,12,9,43,67]\n",
    "\n",
    "for a in age:\n",
    "    if 0<a<18:\n",
    "        print(f'{a}: Minor')\n",
    "    elif 18<=a<65:\n",
    "        print(f'{a}: Adult')\n",
    "    else:\n",
    "        print(f'{a}: Senior Citizen')"
   ]
  },
  {
   "cell_type": "markdown",
   "id": "2b70ddcb-c4e8-4318-8170-ec58464e51f3",
   "metadata": {},
   "source": [
    "### Problem 4 - Calculating Pi"
   ]
  },
  {
   "cell_type": "code",
   "execution_count": 175,
   "id": "c04b89ae-0248-49e9-beef-6a43e14da98c",
   "metadata": {},
   "outputs": [
    {
     "name": "stdout",
     "output_type": "stream",
     "text": [
      "π= 3.1611986129870506 using 51 terms.\n",
      "π= 3.143588659585789 using 501 terms.\n",
      "π= 3.1417926135957908 using 5001 terms.\n",
      "π= 3.141612653189785 using 50001 terms.\n",
      "π= 3.1415946535856922 using 500001 terms.\n"
     ]
    }
   ],
   "source": [
    "num_values = [51, 501, 5001, 50001, 500001]\n",
    "\n",
    "def pi(n):\n",
    "    pi_result = 0\n",
    "    denominator = 1\n",
    "    sign = 1 \n",
    "    for r in range(1, n+1):\n",
    "        pi_result = pi_result + sign * 4 / denominator \n",
    "        denominator = denominator + 2 \n",
    "        sign = sign * -1\n",
    "    return pi_result\n",
    "    \n",
    "for num_terms in num_values:\n",
    "    print(f'π= {pi(num_terms)} using {num_terms} terms.')\n",
    "        \n",
    "    "
   ]
  },
  {
   "cell_type": "code",
   "execution_count": null,
   "id": "3c16e322-f45f-4d7e-821e-9efb96d674d7",
   "metadata": {},
   "outputs": [],
   "source": []
  }
 ],
 "metadata": {
  "kernelspec": {
   "display_name": "anaconda-panel-2023.05-py310",
   "language": "python",
   "name": "conda-env-anaconda-panel-2023.05-py310-py"
  },
  "language_info": {
   "codemirror_mode": {
    "name": "ipython",
    "version": 3
   },
   "file_extension": ".py",
   "mimetype": "text/x-python",
   "name": "python",
   "nbconvert_exporter": "python",
   "pygments_lexer": "ipython3",
   "version": "3.11.5"
  }
 },
 "nbformat": 4,
 "nbformat_minor": 5
}
